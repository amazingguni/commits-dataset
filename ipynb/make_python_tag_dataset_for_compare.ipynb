{
 "cells": [
  {
   "cell_type": "code",
   "execution_count": 26,
   "metadata": {},
   "outputs": [],
   "source": [
    "from pathlib import Path\n",
    "root_dataset_path = Path('../data/java1000-remove-tags-add-tags-again/')\n",
    "index_path = root_dataset_path / 'preprocessed' / 'all.index'\n",
    "target_path = root_dataset_path / 'preprocessed' / 'all.target'\n",
    "\n"
   ]
  },
  {
   "cell_type": "code",
   "execution_count": 27,
   "metadata": {},
   "outputs": [],
   "source": [
    "all_index_list = open(index_path).read().strip().split('\\n')\n",
    "all_target_list = open(target_path).read().strip().split('\\n')"
   ]
  },
  {
   "cell_type": "code",
   "execution_count": 32,
   "metadata": {},
   "outputs": [],
   "source": [
    "all_index_target_dic = {index.lower(): target for index, target in zip(all_index_list, all_target_list)}"
   ]
  },
  {
   "cell_type": "code",
   "execution_count": 35,
   "metadata": {},
   "outputs": [],
   "source": [
    "dataset_path = root_dataset_path / 'dataset'\n",
    "import shutil\n",
    "for subdir in ['line', 'line_lower', 'word', 'word_lower']:\n",
    "    target_dir = dataset_path / subdir\n",
    "    for stage in ['train', 'eval', 'test']:\n",
    "        index_list = open(target_dir / f'java1000-remove-tags.{stage}.index').read().strip().split('\\n')\n",
    "        target_filename = target_dir / f'java1000-remove-tags-add-tags-again.{stage}.target'\n",
    "        shutil.copy(target_dir / f'java1000-remove-tags.{stage}.index', target_dir / f'java1000-remove-tags-add-tags-again.{stage}.index')\n",
    "        shutil.copy(target_dir / f'java1000-remove-tags.{stage}.source', target_dir / f'java1000-remove-tags-add-tags-again.{stage}.source')\n",
    "        with open(target_filename, 'w') as f:\n",
    "            for idx in index_list:\n",
    "                target = all_index_target_dic[idx.lower()]\n",
    "                if 'lower' in subdir:\n",
    "                    target = target.lower()\n",
    "                f.write(target + '\\n')"
   ]
  },
  {
   "cell_type": "code",
   "execution_count": 31,
   "metadata": {},
   "outputs": [
    {
     "output_type": "execute_result",
     "data": {
      "text/plain": "206848"
     },
     "metadata": {},
     "execution_count": 31
    }
   ],
   "source": [
    "len(all_index_target_dic)"
   ]
  },
  {
   "cell_type": "code",
   "execution_count": null,
   "metadata": {},
   "outputs": [],
   "source": []
  }
 ],
 "metadata": {
  "language_info": {
   "codemirror_mode": {
    "name": "ipython",
    "version": 3
   },
   "file_extension": ".py",
   "mimetype": "text/x-python",
   "name": "python",
   "nbconvert_exporter": "python",
   "pygments_lexer": "ipython3",
   "version": "3.6.10-final"
  },
  "orig_nbformat": 2,
  "kernelspec": {
   "name": "python361064bitvenvvenv005685c82b3d41dc8c1bcbb6df59970c",
   "display_name": "Python 3.6.10 64-bit ('.venv': venv)"
  }
 },
 "nbformat": 4,
 "nbformat_minor": 2
}